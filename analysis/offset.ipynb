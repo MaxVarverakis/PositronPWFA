{
 "cells": [
  {
   "cell_type": "code",
   "execution_count": 4,
   "metadata": {},
   "outputs": [],
   "source": [
    "import h5py\n",
    "\n",
    "path = '/Users/max/HiPACE/recovery/filament/h5/offsets/'"
   ]
  },
  {
   "cell_type": "code",
   "execution_count": 51,
   "metadata": {},
   "outputs": [
    {
     "name": "stdout",
     "output_type": "stream",
     "text": [
      "[-0.0149374   0.0149374  -0.0149374  ... -0.01264183  0.01264183\n",
      " -0.01264183]\n"
     ]
    }
   ],
   "source": [
    "with h5py.File(path + 'openpmd_000000.h5', 'r') as f:\n",
    "    # print(f['data/0/particles/recovery/positionOffset/x'])\n",
    "    print(f['data/0/particles/recovery/position/x'][:])"
   ]
  },
  {
   "cell_type": "code",
   "execution_count": 50,
   "metadata": {},
   "outputs": [],
   "source": [
    "with h5py.File(path + 'openpmd_000000.h5', 'r+') as f:\n",
    "    f['data/0/particles/recovery/position/x'][:] -= 1.0"
   ]
  }
 ],
 "metadata": {
  "kernelspec": {
   "display_name": "base",
   "language": "python",
   "name": "python3"
  },
  "language_info": {
   "codemirror_mode": {
    "name": "ipython",
    "version": 3
   },
   "file_extension": ".py",
   "mimetype": "text/x-python",
   "name": "python",
   "nbconvert_exporter": "python",
   "pygments_lexer": "ipython3",
   "version": "3.8.11"
  }
 },
 "nbformat": 4,
 "nbformat_minor": 2
}
